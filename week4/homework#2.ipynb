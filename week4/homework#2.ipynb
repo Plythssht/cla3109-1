{
 "cells": [
  {
   "cell_type": "markdown",
   "id": "1e72f84a",
   "metadata": {},
   "source": [
    "# 이름: 김민제\n",
    "# 학번: 2019314960"
   ]
  },
  {
   "cell_type": "markdown",
   "id": "4f059e30",
   "metadata": {},
   "source": [
    "### Q1. 다음 조선왕조실록 사이트에서 재위기간이 가장 짧은 인종의 기사를 크롤링하여 1) URL 주소, 2) 기사 제목, 3) 한글 내용을 포함하는 코드를 작성 하세요. [조선왕조실록 바로가기](http://sillok.history.go.kr/main/main.do) <br><br> 예상되는 output은 다음과 같습니다.\n",
    "```[{\"url\": \"http://sillok.history.go.kr/id/kla_10101001_001\", \"title\":\"삭전을 지내고 상식을 올리다\", \"content\": \"상(上)이 삭전(朔奠)을 지내고...\" }, {\"url\":\"...\", \"title\":\"...\", \"content\":\"...\"}, ...]```"
   ]
  },
  {
   "cell_type": "code",
   "execution_count": 66,
   "id": "3a758b22",
   "metadata": {},
   "outputs": [],
   "source": [
    "import requests # HTTP request를 쉽게 구현해주는 라이브러리\n",
    "sillok_url = \"http://sillok.history.go.kr/search/inspectionMonthList.do\" # 크롤링 원하는 주소\n",
    "response = requests.get(sillok_url)\n"
   ]
  },
  {
   "cell_type": "code",
   "execution_count": 45,
   "id": "69ffb4bf",
   "metadata": {
    "scrolled": false
   },
   "outputs": [
    {
     "name": "stderr",
     "output_type": "stream",
     "text": [
      "/var/folders/h4/90vtzp5s1s3b0vhwb76zfx900000gn/T/ipykernel_27872/2189344511.py:10: DeprecationWarning: use options instead of chrome_options\n",
      "  driver = webdriver.Chrome(chrome_options=chrome_options)\n"
     ]
    }
   ],
   "source": [
    "\n",
    "from selenium import webdriver\n",
    "from selenium.webdriver.common.by import By\n",
    "import os\n",
    "chrome_options = webdriver.ChromeOptions()\n",
    "chrome_options.add_argument('--user-agent=\"Mozilla/5.0 (Macintosh; Intel Mac OS X 10_13_4) AppleWebKit/537.36 (KHTML, like Gecko) Chrome/66.0.3359.139 Safari/537.36\"')\n",
    "driver = webdriver.Chrome(chrome_options=chrome_options)\n",
    "URL = \"http://sillok.history.go.kr/search/inspectionMonthList.do\"\n",
    "\n",
    "driver.get(URL)\n",
    "\n",
    "\n",
    "\n"
   ]
  },
  {
   "cell_type": "code",
   "execution_count": 71,
   "id": "5299237f",
   "metadata": {},
   "outputs": [
    {
     "name": "stderr",
     "output_type": "stream",
     "text": [
      "/var/folders/h4/90vtzp5s1s3b0vhwb76zfx900000gn/T/ipykernel_27872/309741845.py:1: DeprecationWarning: find_element_by_xpath is deprecated. Please use find_element(by=By.XPATH, value=xpath) instead\n",
      "  driver.find_element_by_xpath('//*[@id=\"kla\"]/span/a').click()\n",
      "/var/folders/h4/90vtzp5s1s3b0vhwb76zfx900000gn/T/ipykernel_27872/309741845.py:2: DeprecationWarning: find_element_by_xpath is deprecated. Please use find_element(by=By.XPATH, value=xpath) instead\n",
      "  driver.find_element_by_xpath('//*[@id=\"cont_area\"]/div/div[2]/ul[2]/li/ul/li[1]/a').click()\n"
     ]
    }
   ],
   "source": [
    "driver.find_element_by_xpath('//*[@id=\"kla\"]/span/a').click()\n",
    "driver.find_element_by_xpath('//*[@id=\"cont_area\"]/div/div[2]/ul[2]/li/ul/li[1]/a').click()\n"
   ]
  },
  {
   "cell_type": "code",
   "execution_count": 73,
   "id": "f44d7a83",
   "metadata": {},
   "outputs": [
    {
     "name": "stderr",
     "output_type": "stream",
     "text": [
      "/var/folders/h4/90vtzp5s1s3b0vhwb76zfx900000gn/T/ipykernel_27872/2063675303.py:6: DeprecationWarning: find_element_by_xpath is deprecated. Please use find_element(by=By.XPATH, value=xpath) instead\n",
      "  driver.find_element_by_xpath('//*[@id=\"kla_1010%s\"]/span/a' %month).click()\n"
     ]
    }
   ],
   "source": [
    "article_urls = []\n",
    "article_titles = []\n",
    "article_contents = []\n",
    "\n",
    "\n",
    "for month in [10, 11, 20, 30, 40, 50, 60, 70]:#예시로 1월만 적용\n",
    "    while True:\n",
    "        driver.find_element_by_xpath('//*[@id=\"cont_area\"]/div[1]/div[3]/div/dl/dd/ul/li/a').click()\n",
    "        #각 라인에 들어왔고\n",
    "        #이제 크롤링하자\n",
    "        article_titles.append(driver.find_element_by_xpath('//*[@id=\"cont_area\"]/div[1]/div[1]/h3'))\n",
    "\n",
    "    \n",
    "    \n",
    "    #driver.find_element_by_xpath('//*[@id=\"kla_1010%s\"]/span/a' %month).click()\n",
    "    #다음달로 넘어가기"
   ]
  },
  {
   "cell_type": "code",
   "execution_count": null,
   "id": "965c9524",
   "metadata": {},
   "outputs": [],
   "source": []
  },
  {
   "cell_type": "markdown",
   "id": "cd2d8de7",
   "metadata": {},
   "source": [
    "### Q2. Q1에서 만든 csv파일을 불러와서 DataFrame을 생성하고, content 칼럼에서 괄호와 한문을 모두 제거하여 content 칼럼에 다시 저장하세요.\n",
    "hint: 괄호와 괄호 안 문자를 제거하는 정규표현식 ```\"\\(.* \\)\" ```"
   ]
  },
  {
   "cell_type": "code",
   "execution_count": 15,
   "id": "ab8d680a",
   "metadata": {},
   "outputs": [],
   "source": [
    "# your code here\n"
   ]
  },
  {
   "cell_type": "markdown",
   "id": "19556415",
   "metadata": {},
   "source": [
    "### Q3. Q2에서 만든 list of dictionaries을 pandas DataFrame으로 바꾸어 csv 파일로 저장하는 코드를 작성하세요."
   ]
  },
  {
   "cell_type": "code",
   "execution_count": null,
   "id": "1ce50191",
   "metadata": {},
   "outputs": [],
   "source": [
    "# your code here"
   ]
  }
 ],
 "metadata": {
  "kernelspec": {
   "display_name": "Python 3 (ipykernel)",
   "language": "python",
   "name": "python3"
  },
  "language_info": {
   "codemirror_mode": {
    "name": "ipython",
    "version": 3
   },
   "file_extension": ".py",
   "mimetype": "text/x-python",
   "name": "python",
   "nbconvert_exporter": "python",
   "pygments_lexer": "ipython3",
   "version": "3.8.12"
  }
 },
 "nbformat": 4,
 "nbformat_minor": 5
}
