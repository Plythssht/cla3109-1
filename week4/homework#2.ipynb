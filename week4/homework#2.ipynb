{
 "cells": [
  {
   "cell_type": "markdown",
   "id": "1e72f84a",
   "metadata": {},
   "source": [
    "# 이름: 김민제\n",
    "# 학번: 2019314960"
   ]
  },
  {
   "cell_type": "markdown",
   "id": "4f059e30",
   "metadata": {},
   "source": [
    "### Q1. 다음 조선왕조실록 사이트에서 재위기간이 가장 짧은 인종의 기사를 크롤링하여 1) URL 주소, 2) 기사 제목, 3) 한글 내용을 포함하는 코드를 작성 하세요. [조선왕조실록 바로가기](http://sillok.history.go.kr/main/main.do) <br><br> 예상되는 output은 다음과 같습니다.\n",
    "```[{\"url\": \"http://sillok.history.go.kr/id/kla_10101001_001\", \"title\":\"삭전을 지내고 상식을 올리다\", \"content\": \"상(上)이 삭전(朔奠)을 지내고...\" }, {\"url\":\"...\", \"title\":\"...\", \"content\":\"...\"}, ...]```"
   ]
  },
  {
   "cell_type": "code",
   "execution_count": 176,
   "id": "fb6936a6",
   "metadata": {},
   "outputs": [
    {
     "name": "stderr",
     "output_type": "stream",
     "text": [
      "/var/folders/h4/90vtzp5s1s3b0vhwb76zfx900000gn/T/ipykernel_27872/1655918427.py:10: DeprecationWarning: use options instead of chrome_options\n",
      "  driver = webdriver.Chrome(chrome_options=chrome_options)\n",
      "/var/folders/h4/90vtzp5s1s3b0vhwb76zfx900000gn/T/ipykernel_27872/1655918427.py:14: DeprecationWarning: find_element_by_xpath is deprecated. Please use find_element(by=By.XPATH, value=xpath) instead\n",
      "  driver.find_element_by_xpath('//*[@id=\"content\"]/a').click()\n",
      "/var/folders/h4/90vtzp5s1s3b0vhwb76zfx900000gn/T/ipykernel_27872/1655918427.py:16: DeprecationWarning: find_element_by_xpath is deprecated. Please use find_element(by=By.XPATH, value=xpath) instead\n",
      "  driver.find_element_by_xpath('//*[@id=\"kla\"]/span/a').click()\n",
      "/var/folders/h4/90vtzp5s1s3b0vhwb76zfx900000gn/T/ipykernel_27872/1655918427.py:21: DeprecationWarning: find_element_by_xpath is deprecated. Please use find_element(by=By.XPATH, value=xpath) instead\n",
      "  driver.find_element_by_xpath('//*[@id=\"cont_area\"]/div/div[2]/ul[2]/li/ul/li[1]/a').click()\n"
     ]
    },
    {
     "ename": "AttributeError",
     "evalue": "'NoneType' object has no attribute 'click'",
     "output_type": "error",
     "traceback": [
      "\u001b[0;31m---------------------------------------------------------------------------\u001b[0m",
      "\u001b[0;31mAttributeError\u001b[0m                            Traceback (most recent call last)",
      "\u001b[0;32m/var/folders/h4/90vtzp5s1s3b0vhwb76zfx900000gn/T/ipykernel_27872/1655918427.py\u001b[0m in \u001b[0;36m<module>\u001b[0;34m\u001b[0m\n\u001b[1;32m     19\u001b[0m \u001b[0marticle_contents\u001b[0m \u001b[0;34m=\u001b[0m \u001b[0;34m[\u001b[0m\u001b[0;34m]\u001b[0m\u001b[0;34m\u001b[0m\u001b[0;34m\u001b[0m\u001b[0m\n\u001b[1;32m     20\u001b[0m \u001b[0;34m\u001b[0m\u001b[0m\n\u001b[0;32m---> 21\u001b[0;31m \u001b[0mdriver\u001b[0m\u001b[0;34m.\u001b[0m\u001b[0mfind_element_by_xpath\u001b[0m\u001b[0;34m(\u001b[0m\u001b[0;34m'//*[@id=\"cont_area\"]/div/div[2]/ul[2]/li/ul/li[1]/a'\u001b[0m\u001b[0;34m)\u001b[0m\u001b[0;34m.\u001b[0m\u001b[0mclick\u001b[0m\u001b[0;34m(\u001b[0m\u001b[0;34m)\u001b[0m\u001b[0;34m\u001b[0m\u001b[0;34m\u001b[0m\u001b[0m\n\u001b[0m\u001b[1;32m     22\u001b[0m \u001b[0mdriver\u001b[0m\u001b[0;34m.\u001b[0m\u001b[0mimplicitly_wait\u001b[0m\u001b[0;34m(\u001b[0m\u001b[0;36m10\u001b[0m\u001b[0;34m)\u001b[0m\u001b[0;34m\u001b[0m\u001b[0;34m\u001b[0m\u001b[0m\n\u001b[1;32m     23\u001b[0m \u001b[0mdriver\u001b[0m\u001b[0;34m.\u001b[0m\u001b[0mfind_element_by_xpath\u001b[0m\u001b[0;34m(\u001b[0m\u001b[0;34m'//*[@id=\"cont_area\"]/div[1]/div[3]/div/dl/dd/ul/li[1]/a'\u001b[0m\u001b[0;34m)\u001b[0m\u001b[0;34m.\u001b[0m\u001b[0mclick\u001b[0m\u001b[0;34m(\u001b[0m\u001b[0;34m)\u001b[0m\u001b[0;34m\u001b[0m\u001b[0;34m\u001b[0m\u001b[0m\n",
      "\u001b[0;31mAttributeError\u001b[0m: 'NoneType' object has no attribute 'click'"
     ]
    }
   ],
   "source": [
    "import requests # HTTP request를 쉽게 구현해주는 라이브러리\n",
    "sillok_url = \"http://sillok.history.go.kr/search/inspectionMonthList.do\" # 크롤링 원하는 주소\n",
    "response = requests.get(sillok_url)\n",
    "\n",
    "from selenium import webdriver\n",
    "from selenium.webdriver.common.by import By\n",
    "import os\n",
    "chrome_options = webdriver.ChromeOptions()\n",
    "chrome_options.add_argument('--user-agent=\"Mozilla/5.0 (Macintosh; Intel Mac OS X 10_13_4) AppleWebKit/537.36 (KHTML, like Gecko) Chrome/66.0.3359.139 Safari/537.36\"')\n",
    "driver = webdriver.Chrome(chrome_options=chrome_options)\n",
    "URL = \"http://sillok.history.go.kr/search/inspectionMonthList.do\"\n",
    "driver.get(URL)\n",
    "driver.implicitly_wait(10)\n",
    "driver.find_element_by_xpath('//*[@id=\"content\"]/a').click()\n",
    "driver.implicitly_wait(10)\n",
    "driver.find_element_by_xpath('//*[@id=\"kla\"]/span/a').click()\n",
    "article_urls = []\n",
    "article_titles = []\n",
    "article_contents = []\n",
    "\n",
    "driver.find_element_by_xpath('//*[@id=\"cont_area\"]/div/div[2]/ul[2]/li/ul/li[1]/a').click()\n",
    "driver.implicitly_wait(10)\n",
    "driver.find_element_by_xpath('//*[@id=\"cont_area\"]/div[1]/div[3]/div/dl/dd/ul/li[1]/a').click()\n",
    "driver.implicitly_wait(10)\n",
    "\n",
    "for i in range(667):\n",
    "    current_response = requests.get(driver.current_url)\n",
    "    article_urls.append(driver.current_url)#크롤링시작\n",
    "    article_titles.append([i for i in html.fromstring(current_response.text).xpath('//*[@id=\"cont_area\"]/div[1]/div[1]/h3/text()')][0])\n",
    "    article_contents.append([i for i in html.fromstring(current_response.text).xpath('//*[@id=\"cont_area\"]/div[1]/div[3]/div[1]/div/div/p/text()')])\n",
    "    driver.find_element_by_xpath('//*[@id=\"cont_area\"]/div[1]/ul[2]/li[2]/a').click()\n",
    "\n",
    "\n",
    "print(article_urls, article_titles, article_contents)"
   ]
  },
  {
   "cell_type": "code",
   "execution_count": null,
   "id": "c0969794",
   "metadata": {},
   "outputs": [],
   "source": []
  },
  {
   "cell_type": "code",
   "execution_count": null,
   "id": "9001d98e",
   "metadata": {},
   "outputs": [],
   "source": []
  },
  {
   "cell_type": "markdown",
   "id": "cd2d8de7",
   "metadata": {},
   "source": [
    "### Q2. Q1에서 만든 csv파일을 불러와서 DataFrame을 생성하고, content 칼럼에서 괄호와 한문을 모두 제거하여 content 칼럼에 다시 저장하세요.\n",
    "hint: 괄호와 괄호 안 문자를 제거하는 정규표현식 ```\"\\(.* \\)\" ```"
   ]
  },
  {
   "cell_type": "code",
   "execution_count": 15,
   "id": "ab8d680a",
   "metadata": {},
   "outputs": [],
   "source": [
    "# your code here\n"
   ]
  },
  {
   "cell_type": "markdown",
   "id": "19556415",
   "metadata": {},
   "source": [
    "### Q3. Q2에서 만든 list of dictionaries을 pandas DataFrame으로 바꾸어 csv 파일로 저장하는 코드를 작성하세요."
   ]
  },
  {
   "cell_type": "code",
   "execution_count": null,
   "id": "1ce50191",
   "metadata": {},
   "outputs": [],
   "source": [
    "# your code here"
   ]
  }
 ],
 "metadata": {
  "kernelspec": {
   "display_name": "Python 3 (ipykernel)",
   "language": "python",
   "name": "python3"
  },
  "language_info": {
   "codemirror_mode": {
    "name": "ipython",
    "version": 3
   },
   "file_extension": ".py",
   "mimetype": "text/x-python",
   "name": "python",
   "nbconvert_exporter": "python",
   "pygments_lexer": "ipython3",
   "version": "3.8.12"
  }
 },
 "nbformat": 4,
 "nbformat_minor": 5
}
