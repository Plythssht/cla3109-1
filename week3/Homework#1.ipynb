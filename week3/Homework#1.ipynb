{
 "cells": [
  {
   "cell_type": "markdown",
   "id": "149159e1",
   "metadata": {},
   "source": [
    "# 이름: 김민제\n",
    "# 학번: 2019314960\n",
    "# 학과: 문헌정보학과"
   ]
  },
  {
   "cell_type": "markdown",
   "id": "fd253403",
   "metadata": {},
   "source": [
    "### 주의사항: your {command, answer, code} here 지우고 작성할 것."
   ]
  },
  {
   "cell_type": "markdown",
   "id": "d540dda8",
   "metadata": {},
   "source": [
    "##### Q1. (UNIX) 디렉토리 내에 있는 파일들의 목록을 내림차순으로 출력하는 명령어를 적으세요. ( ! 기호 후 명령어 입력. Windows 명령어도 인정함. )"
   ]
  },
  {
   "cell_type": "code",
   "execution_count": null,
   "id": "0555ad2f",
   "metadata": {},
   "outputs": [],
   "source": [
    "! ls -r"
   ]
  },
  {
   "cell_type": "markdown",
   "id": "d7d387d6",
   "metadata": {},
   "source": [
    "##### Q2. (UNIX) UNIX에서는 모든 것이 \\_\\_이것\\_\\_이다. 이것에 들어갈 말을 영어로 적으세요. "
   ]
  },
  {
   "cell_type": "code",
   "execution_count": null,
   "id": "98fb52fb",
   "metadata": {},
   "outputs": [],
   "source": [
    "file"
   ]
  },
  {
   "cell_type": "markdown",
   "id": "a7b66b8a",
   "metadata": {},
   "source": [
    "##### Q3. 다음 리스트에서 짝수만 남기면서, 892 보다 큰 수는 출력되지 않는 리스트를 만드세요."
   ]
  },
  {
   "cell_type": "code",
   "execution_count": 1,
   "id": "4d27e3db",
   "metadata": {},
   "outputs": [
    {
     "data": {
      "text/plain": [
       "[386,\n",
       " 462,\n",
       " 418,\n",
       " 344,\n",
       " 236,\n",
       " 566,\n",
       " 328,\n",
       " 162,\n",
       " 758,\n",
       " 412,\n",
       " 566,\n",
       " 826,\n",
       " 248,\n",
       " 866,\n",
       " 626,\n",
       " 104,\n",
       " 58,\n",
       " 512,\n",
       " 24,\n",
       " 892,\n",
       " 742]"
      ]
     },
     "execution_count": 1,
     "metadata": {},
     "output_type": "execute_result"
    }
   ],
   "source": [
    "numbers = [    \n",
    "    386, 462, 47, 418, 907, 344, 236, 375, 823, 566, 597, 978, 328, 615, 953, 345, \n",
    "    399, 162, 758, 219, 918, 237, 412, 566, 826, 248, 866, 950, 626, 949, 687, 217, \n",
    "    815, 67, 104, 58, 512, 24, 892, 894, 767, 553, 81, 379, 843, 831, 445, 742, 717, \n",
    "    958,743, 527\n",
    "    ]\n",
    "\n",
    "numbers = [i for i in numbers if i%2==0 and i<=892]\n",
    "numbers"
   ]
  },
  {
   "cell_type": "markdown",
   "id": "c4efa335",
   "metadata": {},
   "source": [
    "##### Q4. 다음 2개의 변수 a, b의 값을 한 줄로 바꾸는 코드를 완성하세요."
   ]
  },
  {
   "cell_type": "code",
   "execution_count": 2,
   "id": "2ede8382",
   "metadata": {},
   "outputs": [
    {
     "name": "stdout",
     "output_type": "stream",
     "text": [
      "변희봉 신하균\n"
     ]
    }
   ],
   "source": [
    "young_man = \"신하균\"\n",
    "old_man = \"변희봉\"\n",
    "young_man, old_man = old_man, young_man\n",
    "\n",
    "print(young_man, old_man)"
   ]
  },
  {
   "cell_type": "markdown",
   "id": "780c7a67",
   "metadata": {},
   "source": [
    "##### Q5. 한국어의 목적격 조사 '을'과 '를'은 앞에 나오는 단어의 받침에 따라 결정된다. 예를 들어, \"나는 오늘 수업을 들었다.\"에서 \"수업\" 뒤에 붙는 목적격 조사 \"을\"은 앞 음절에 받침이 있기 때문에 \"을\"을 사용한 것이다. 만일, 앞 음절에 받침이 없었다면 \"를\"을 사용했을 것이다. 입력으로 넣은 단어의 목적격 조사로 '을'과 '를' 중 어떤 것이 적절할 지 판단하는 함수를 작성하세요."
   ]
  },
  {
   "cell_type": "code",
   "execution_count": 7,
   "id": "3c0d0c9d",
   "metadata": {},
   "outputs": [
    {
     "name": "stdout",
     "output_type": "stream",
     "text": [
      "여수 밤바다를"
     ]
    }
   ],
   "source": [
    "# 참고\n",
    "# 초성 리스트. 00 ~ 18\n",
    "CHOSUNG_LIST = ['ㄱ', 'ㄲ', 'ㄴ', 'ㄷ', 'ㄸ', 'ㄹ', 'ㅁ', 'ㅂ', 'ㅃ', 'ㅅ', 'ㅆ', 'ㅇ', 'ㅈ', 'ㅉ', 'ㅊ', 'ㅋ', 'ㅌ', 'ㅍ', 'ㅎ']\n",
    "# 중성 리스트. 00 ~ 20\n",
    "JUNGSUNG_LIST = ['ㅏ', 'ㅐ', 'ㅑ', 'ㅒ', 'ㅓ', 'ㅔ', 'ㅕ', 'ㅖ', 'ㅗ', 'ㅘ', 'ㅙ', 'ㅚ', 'ㅛ', 'ㅜ', 'ㅝ', 'ㅞ', 'ㅟ', 'ㅠ', 'ㅡ', 'ㅢ', 'ㅣ']\n",
    "# 종성 리스트. 00 ~ 27 + 1(1개 없음)\n",
    "JONGSUNG_LIST = [' ', 'ㄱ', 'ㄲ', 'ㄳ', 'ㄴ', 'ㄵ', 'ㄶ', 'ㄷ', 'ㄹ', 'ㄺ', 'ㄻ', 'ㄼ', 'ㄽ', 'ㄾ', 'ㄿ', 'ㅀ', 'ㅁ', 'ㅂ', 'ㅄ', 'ㅅ', 'ㅆ', 'ㅇ', 'ㅈ', 'ㅊ', 'ㅋ', 'ㅌ', 'ㅍ', 'ㅎ']\n",
    "\n",
    "def decide_postposition(word):\n",
    "    def jongsung(woord):\n",
    "        if woord[-1] >= \"가\" and word[-1] <= \"힣\":\n",
    "            return (ord(woord[-1])-ord(\"가\")) % 28 > 0\n",
    "        else:\n",
    "            return\n",
    "    particle = \"을\" if jongsung(word) else \"를\"\n",
    "    print(f\"{word}{particle}\", end='')\n",
    "    return \n",
    "decide_postposition(\"여수 밤바다\") # 실행 결과 \"여수 밤바다를\"이 출력되어야 함."
   ]
  },
  {
   "cell_type": "markdown",
   "id": "794c0d3e",
   "metadata": {},
   "source": [
    "##### Q6. 다음 문자열을 역순으로 출력하는 한 줄짜리 코드를 작성하세요."
   ]
  },
  {
   "cell_type": "code",
   "execution_count": 11,
   "id": "82143555",
   "metadata": {},
   "outputs": [
    {
     "name": "stdout",
     "output_type": "stream",
     "text": [
      "말해말 꺼꾸로 꺼꾸로 꺼꾸로\n"
     ]
    }
   ],
   "source": [
    "sentence = \"로꾸꺼 로꾸꺼 로꾸꺼 말해말\"\n",
    "sentence = print(sentence[::-1])"
   ]
  },
  {
   "cell_type": "markdown",
   "id": "f7f1c98e",
   "metadata": {},
   "source": [
    "##### Q7. 주어진 dictionary가 모두 같은 값을 갖고 있는지 확인하는 함수를 작성하세요."
   ]
  },
  {
   "cell_type": "code",
   "execution_count": 12,
   "id": "4caa1469",
   "metadata": {},
   "outputs": [
    {
     "name": "stdout",
     "output_type": "stream",
     "text": [
      "True\n",
      "None\n",
      "False\n",
      "None\n"
     ]
    }
   ],
   "source": [
    "def check_homogeneity(dictionary):\n",
    "    print(True if len(set(list(dictionary.values()))) == 1 else False)\n",
    "    return\n",
    "print(check_homogeneity({\"정조\":\"왕\", \"단종\":\"왕\", \"광해군\":\"왕\"})) # return True\n",
    "print(check_homogeneity({\"걸스데이\":4, \"씨스타\":4, \"블랭핑크\":4, \"소녀시대\":9})) # return False"
   ]
  },
  {
   "cell_type": "markdown",
   "id": "dd08def5",
   "metadata": {},
   "source": [
    "##### Q8. 다음 두 리스트 s1, s2를 Pandas의 Series로 만들고 두 Series를 더해보세요."
   ]
  },
  {
   "cell_type": "code",
   "execution_count": 4,
   "id": "aefc2d5a",
   "metadata": {},
   "outputs": [
    {
     "name": "stdout",
     "output_type": "stream",
     "text": [
      "0     3\n",
      "1     7\n",
      "2    11\n",
      "3    15\n",
      "4    19\n",
      "dtype: int64\n"
     ]
    }
   ],
   "source": [
    "import pandas as pd\n",
    "s1 = [2, 4, 6, 8, 10]\n",
    "s2 = [1, 3, 5, 7, 9]\n",
    "\n",
    "obj1 = pd.Series(s1)\n",
    "obj2 = pd.Series(s2)\n",
    "print(obj1 + obj2)"
   ]
  },
  {
   "cell_type": "markdown",
   "id": "e2561558",
   "metadata": {},
   "source": [
    "##### Q9. 다음 DataFrame 에서, name(이름)과 turnout(득표율)만 선택(selection)하는 코드를 작성하세요."
   ]
  },
  {
   "cell_type": "code",
   "execution_count": 5,
   "id": "d7d4d64f",
   "metadata": {
    "scrolled": true
   },
   "outputs": [
    {
     "name": "stdout",
     "output_type": "stream",
     "text": [
      "  name  turnout\n",
      "가  이승만     91.8\n",
      "나  윤보선     79.1\n",
      "다  박정희     46.6\n",
      "라  최규하     96.3\n",
      "마  전두환     99.4\n",
      "바  노태우     36.6\n",
      "사  김영삼     42.0\n",
      "아  김대중     40.3\n",
      "자  노무현     48.9\n",
      "차  이명박     48.7\n",
      "카  박근혜     51.6\n",
      "타  문재인     41.1\n"
     ]
    }
   ],
   "source": [
    "import pandas as pd\n",
    "import numpy as np\n",
    "president_data  = {'name': ['이승만', '윤보선', '박정희', '최규하', '전두환', '노태우',\n",
    "                       '김영삼', '김대중', '노무현', '이명박', '박근혜', '문재인'],\n",
    "        'turnout': [91.8, 79.1, 46.6, 96.3, 99.4, 36.6,\n",
    "                    42, 40.3, 48.9, 48.7, 51.6,41.1],\n",
    "        'jail': ['no', 'no', 'no', 'no', 'yes', 'yes',\n",
    "                'no', 'no', 'no','yes','yes',np.nan]}\n",
    "labels = ['가', '나', '다', '라', '마', '바', '사', '아', '자', '차','카','타']\n",
    "presidents = pd.DataFrame(president_data, index=labels )\n",
    "\n",
    "print(presidents[['name','turnout']])"
   ]
  },
  {
   "cell_type": "markdown",
   "id": "f39b55d7",
   "metadata": {},
   "source": [
    "##### Q10. Q9 에서 만든 DataFrame에 각 대통령의 재임 기간을 조사하여 'period'라는 column을 만들고, 'period'의 내림차순으로 DataFrame을 정렬하세요."
   ]
  },
  {
   "cell_type": "code",
   "execution_count": 10,
   "id": "57ff82a5",
   "metadata": {},
   "outputs": [
    {
     "name": "stdout",
     "output_type": "stream",
     "text": [
      "  name  turnout jail  period\n",
      "다  박정희     46.6   no    5793\n",
      "가  이승만     91.8   no    4296\n",
      "마  전두환     99.4  yes    2738\n",
      "바  노태우     36.6  yes    1827\n",
      "차  이명박     48.7  yes    1827\n",
      "사  김영삼     42.0   no    1826\n",
      "아  김대중     40.3   no    1826\n",
      "자  노무현     48.9   no    1826\n",
      "타  문재인     41.1  NaN    1778\n",
      "카  박근혜     51.6  yes    1475\n",
      "나  윤보선     79.1   no     588\n",
      "라  최규하     96.3   no     255\n"
     ]
    }
   ],
   "source": [
    "presidents['period'] = [4296, 588, 5793, 255, 2738, 1827, 1826, 1826, \n",
    "                        1826, 1827, 1475, 1778]\n",
    "print(presidents.sort_values(by=['period'], ascending=False))"
   ]
  }
 ],
 "metadata": {
  "kernelspec": {
   "display_name": "Python 3 (ipykernel)",
   "language": "python",
   "name": "python3"
  },
  "language_info": {
   "codemirror_mode": {
    "name": "ipython",
    "version": 3
   },
   "file_extension": ".py",
   "mimetype": "text/x-python",
   "name": "python",
   "nbconvert_exporter": "python",
   "pygments_lexer": "ipython3",
   "version": "3.8.12"
  }
 },
 "nbformat": 4,
 "nbformat_minor": 5
}
